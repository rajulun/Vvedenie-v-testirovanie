{
 "cells": [
  {
   "cell_type": "markdown",
   "metadata": {},
   "source": [
    "### Математическая логика. Последовательность. Домашняя работа."
   ]
  },
  {
   "cell_type": "markdown",
   "metadata": {},
   "source": [
    "__Проверить любым способ, является ли данная логическая\n",
    "формула тавтологией:__\n",
    "\n",
    "Задание 1. $$(A \\cup B) \\to (B \\cap \\overline{A})$$\n",
    "Задание 2. $$A \\to (A \\cup (\\overline{B} \\cap A))$$"
   ]
  },
  {
   "cell_type": "markdown",
   "metadata": {},
   "source": [
    "A-\"Ложь\"---B-\"Ложь\"---$(A \\cup B)$-\"Л\"----$(B \\cap \\overline{A})$-\"Л\"--$(A \\cup B) \\to (B \\cap \\overline{A})$------__\"Л\"__\n",
    "\n",
    "A-\"Ложь\"---B-\"Истина\"-$(A \\cup B)$-\"И\"----$(B \\cap \\overline{A})$-\"И\"--$(A \\cup B) \\to (B \\cap \\overline{A})$------__\"Л\"__    \n",
    "\n",
    "A-\"Истина\"-B-\"Ложь\"---$(A \\cup B)$-\"И\"----$(B \\cap \\overline{A})$-\"Л\"--$(A \\cup B) \\to (B \\cap \\overline{A})$------__\"И\"__\n",
    "\n",
    "A-\"Истина\"-B-\"Истина\"-$(A \\cup B)$-\"И\"----$(B \\cap \\overline{A})$-\"Л\"--$(A \\cup B) \\to (B \\cap \\overline{A})$------__\"И\"__\n",
    "\n",
    "__Не является тавтологией__"
   ]
  },
  {
   "cell_type": "markdown",
   "metadata": {},
   "source": [
    "A-\"Л\"-B-\"Л\"-$(\\overline{B} \\cap A)$-\"Л\"----$(A \\cup (\\overline{B} \\cap A))$-\"Л\"--$A \\to (A \\cup (\\overline{B} \\cap A))$------__\"И\"__\n",
    "\n",
    "A-\"Л\"-B-\"И\"-$(\\overline{B} \\cap A)$-\"Л\"----$(A \\cup (\\overline{B} \\cap A))$-\"Л\"--$A \\to (A \\cup (\\overline{B} \\cap A))$------__\"И\"__    \n",
    "\n",
    "A-\"И\"-B-\"Л\"-$(\\overline{B} \\cap A)$-\"И\"----$(A \\cup (\\overline{B} \\cap A))$-\"И\"--$A \\to (A \\cup (\\overline{B} \\cap A))$------__\"И\"__\n",
    "\n",
    "A-\"И\"-B-\"И\"-$(\\overline{B} \\cap A)$-\"Л\"----$(A \\cup (\\overline{B} \\cap A))$-\"И\"--$A \\to (A \\cup (\\overline{B} \\cap A))$------__\"И\"__\n",
    "\n",
    "__Является тавтологией__"
   ]
  },
  {
   "cell_type": "code",
   "execution_count": null,
   "metadata": {},
   "outputs": [],
   "source": []
  },
  {
   "cell_type": "markdown",
   "metadata": {},
   "source": [
    "__Сформулируйте словесно высказывания:__\n",
    "\n",
    "Задание 3.$$(\\overline{A} \\cup B) \\to \\overline{C}$$\n",
    "__Ответ: Если сегодня не будет светить солнце или будет сыро, то я не поеду на дачу__\n",
    "\n",
    "Задание 4.$$(C \\to (A \\cup \\overline{B}) $$\n",
    "__Ответ: Я поеду на дачу, если сегодня будет светить солнце или не будет сыро__\n",
    "\n",
    "__исходные данные: А - сегодня светит солнце; В - сегодня сыро; С - я поеду на дачу.__"
   ]
  },
  {
   "cell_type": "code",
   "execution_count": null,
   "metadata": {},
   "outputs": [],
   "source": []
  },
  {
   "cell_type": "markdown",
   "metadata": {},
   "source": [
    "### Пользуясь правилом построения противоположного высказывания, записать утверждения, противоположные следующим:\n"
   ]
  },
  {
   "cell_type": "markdown",
   "metadata": {},
   "source": [
    "__Задание 5. На любом курсе каждого факультета есть студенты, сдающие все экзамены на «отлично».__\n"
   ]
  },
  {
   "cell_type": "markdown",
   "metadata": {},
   "source": [
    "__на $\\forall$ курсе каждого факультета $\\exists$ студенты, которые сдают все экзамены на \"отлично\"__\n",
    "\n",
    "__$\\exists$ курсы на каждом факультете, где $\\forall$ студенты сдают все экзамены на \"отлично\"__\n",
    "\n",
    "__Существуют курсы на каждом факультете, где все студенты сдают все экзамены на \"отлично\"__"
   ]
  },
  {
   "cell_type": "code",
   "execution_count": null,
   "metadata": {},
   "outputs": [],
   "source": []
  },
  {
   "cell_type": "markdown",
   "metadata": {},
   "source": [
    "__Задание 6. Каждый студент философского факультета имеет друга, который умеет решать все логические задачи.__\n"
   ]
  },
  {
   "cell_type": "markdown",
   "metadata": {},
   "source": [
    "__$\\forall$ студент философского факультета $\\exists$ друга, который умеет решать все логические задачи.__\n",
    "\n",
    "__$\\exists$ студенты философского факультета, у которого $\\nexists$ друга, который умеет решать все логические задачи.__\n",
    "\n",
    "__Существует студент филосовского факультета, не имеющий друга, который умеет решать все логические задачи.__"
   ]
  },
  {
   "cell_type": "code",
   "execution_count": null,
   "metadata": {},
   "outputs": [],
   "source": []
  },
  {
   "cell_type": "markdown",
   "metadata": {},
   "source": [
    "__Задание 7. В любом самолете на рейсе Вашингтон-Москва присутствует хотя бы один сотрудник силовых органов, в каждой пуговице одежды которого вмонтирован микрофон.__"
   ]
  },
  {
   "cell_type": "markdown",
   "metadata": {},
   "source": [
    "__В $\\forall$ самолете на рейсе Вашингтон-Москва $\\exists$ хотя бы один сотрудник силовых органов, в $\\forall$ пуговице одежды которого вмонтирован микрофон.__"
   ]
  },
  {
   "cell_type": "markdown",
   "metadata": {},
   "source": [
    "__$\\exists$ самолет на рейсе Вашингтон-Москва на котором у $\\forall$  сотрудника силовых органов  $\\exists$ в пуговице одежды  вмонтированый микрофон.__"
   ]
  },
  {
   "cell_type": "markdown",
   "metadata": {},
   "source": [
    "__Существует самолет на рейсе Вашингтон-Москва, на котором у любого сотрудника силовых органов присутствует в пуговице одежды вмонтированный микрофон__"
   ]
  },
  {
   "cell_type": "markdown",
   "metadata": {},
   "source": [
    "__Представьте в виде несократимой рациональной дроби:__"
   ]
  },
  {
   "cell_type": "markdown",
   "metadata": {},
   "source": [
    "__Задание 8. 0.(216)__"
   ]
  },
  {
   "cell_type": "markdown",
   "metadata": {},
   "source": [
    "_a = 0.(216) > 1000a = 216.(216) > 1000a = 216 + a > 999a = 216 > a = 216/999 = 8/37_ "
   ]
  },
  {
   "cell_type": "code",
   "execution_count": null,
   "metadata": {},
   "outputs": [],
   "source": []
  },
  {
   "cell_type": "markdown",
   "metadata": {},
   "source": [
    "__Задание 9. 1.0(01)__"
   ]
  },
  {
   "cell_type": "markdown",
   "metadata": {},
   "source": [
    "__представим в виде рациональной дроби 0.(01):__ _a = 0.(01) > 100a = 1.(01) > 99a = 1 > a = 1/99_\n",
    "\n",
    "_a = 1.0(01) > 10a = 10.(01) > 10a = 10 + 1/99 > a = 991/990_"
   ]
  },
  {
   "cell_type": "code",
   "execution_count": null,
   "metadata": {},
   "outputs": [],
   "source": []
  },
  {
   "cell_type": "markdown",
   "metadata": {},
   "source": [
    "__Задание 10. Представьте 1 в виде суммы трех рациональных дробей с разными знаменателями и числителем равным 1.__"
   ]
  },
  {
   "cell_type": "code",
   "execution_count": 32,
   "metadata": {},
   "outputs": [
    {
     "data": {
      "text/plain": [
       "0.9999999999999999"
      ]
     },
     "execution_count": 32,
     "metadata": {},
     "output_type": "execute_result"
    }
   ],
   "source": [
    "1/2 + 1/3 + 1/6  "
   ]
  },
  {
   "cell_type": "code",
   "execution_count": 52,
   "metadata": {},
   "outputs": [
    {
     "data": {
      "text/plain": [
       "1.0"
      ]
     },
     "execution_count": 52,
     "metadata": {},
     "output_type": "execute_result"
    }
   ],
   "source": [
    "1/4+1/6+1/12+1/2"
   ]
  },
  {
   "cell_type": "code",
   "execution_count": null,
   "metadata": {},
   "outputs": [],
   "source": []
  },
  {
   "cell_type": "code",
   "execution_count": 34,
   "metadata": {},
   "outputs": [],
   "source": [
    "import numpy as np"
   ]
  },
  {
   "cell_type": "markdown",
   "metadata": {},
   "source": [
    "__Задание 11*. Тоже задание, только в виде суммы шести дробей.__"
   ]
  },
  {
   "cell_type": "code",
   "execution_count": 31,
   "metadata": {},
   "outputs": [
    {
     "data": {
      "text/plain": [
       "1.0"
      ]
     },
     "execution_count": 31,
     "metadata": {},
     "output_type": "execute_result"
    }
   ],
   "source": [
    "1/5 + 1/3 + 1/4 + 1/20 + 1/10 + 1/15"
   ]
  },
  {
   "cell_type": "code",
   "execution_count": null,
   "metadata": {},
   "outputs": [],
   "source": []
  },
  {
   "cell_type": "code",
   "execution_count": null,
   "metadata": {},
   "outputs": [],
   "source": []
  },
  {
   "cell_type": "markdown",
   "metadata": {},
   "source": [
    "__Задание 12. Найдите значение предела:__\n",
    "\n",
    "$$\\lim_{n \\to \\infty} (\\frac {1}{1*2} + \\frac {1}{2*3} + \\frac {1}{3*4} + ... + \\frac {1}{(n-1)*n})$$"
   ]
  },
  {
   "cell_type": "markdown",
   "metadata": {},
   "source": [
    "$$\\lim_{n \\to \\infty} (\\frac {1}{n*(n-1)}) = (\\frac {1}{n^2-n}) = 0$$\n"
   ]
  },
  {
   "attachments": {
    "image.png": {
     "image/png": "[encoded data removed]"
    }
   },
   "cell_type": "markdown",
   "metadata": {},
   "source": [
    "Это выдал онлайн калькулятор https://math.semestr.ru/math/lim.php ![image.png](attachment:image.png) "
   ]
  },
  {
   "cell_type": "code",
   "execution_count": null,
   "metadata": {},
   "outputs": [],
   "source": []
  },
  {
   "cell_type": "markdown",
   "metadata": {},
   "source": [
    "__Задание 13. Пользуясь критерием Коши, докажите сходимость последовательности:__\n",
    "\n",
    "$$a_n = \\frac {\\sin 1}{2} + \\frac {\\sin 2}{2^2} + \\frac {\\sin 3}{2^3} +...+ \\frac {\\sin n}{2^n}$$"
   ]
  },
  {
   "cell_type": "code",
   "execution_count": null,
   "metadata": {},
   "outputs": [],
   "source": []
  },
  {
   "cell_type": "code",
   "execution_count": null,
   "metadata": {},
   "outputs": [],
   "source": []
  },
  {
   "cell_type": "code",
   "execution_count": null,
   "metadata": {},
   "outputs": [],
   "source": []
  },
  {
   "cell_type": "code",
   "execution_count": null,
   "metadata": {},
   "outputs": [],
   "source": []
  },
  {
   "cell_type": "markdown",
   "metadata": {},
   "source": [
    "__* Какой член последовательности можно взять в качестве предела с точностью $𝜀 = 10^{−7}$__"
   ]
  },
  {
   "cell_type": "code",
   "execution_count": null,
   "metadata": {},
   "outputs": [],
   "source": []
  },
  {
   "cell_type": "code",
   "execution_count": null,
   "metadata": {},
   "outputs": [],
   "source": []
  },
  {
   "cell_type": "code",
   "execution_count": null,
   "metadata": {},
   "outputs": [],
   "source": []
  },
  {
   "cell_type": "code",
   "execution_count": null,
   "metadata": {},
   "outputs": [],
   "source": []
  },
  {
   "cell_type": "markdown",
   "metadata": {},
   "source": [
    "__Задание 14*. Пользуясь критерием Коши, докажите расходимость последовательности:__\n",
    "\n",
    "$$b_n = 1 + \\frac {1}{2} + \\frac {1}{3} + ... + \\frac {1}{n}$$"
   ]
  },
  {
   "cell_type": "code",
   "execution_count": null,
   "metadata": {},
   "outputs": [],
   "source": []
  },
  {
   "cell_type": "code",
   "execution_count": null,
   "metadata": {},
   "outputs": [],
   "source": []
  }
 ],
 "metadata": {
  "kernelspec": {
   "display_name": "Python 3",
   "language": "python",
   "name": "python3"
  },
  "language_info": {
   "codemirror_mode": {
    "name": "ipython",
    "version": 3
   },
   "file_extension": ".py",
   "mimetype": "text/x-python",
   "name": "python",
   "nbconvert_exporter": "python",
   "pygments_lexer": "ipython3",
   "version": "3.7.3"
  }
 },
 "nbformat": 4,
 "nbformat_minor": 2
}
