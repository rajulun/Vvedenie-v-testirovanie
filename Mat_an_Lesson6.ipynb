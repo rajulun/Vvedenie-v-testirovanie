{
 "cells": [
  {
   "cell_type": "markdown",
   "metadata": {},
   "source": [
    "### Тема 6 “Понятие о производной”\n",
    "\n",
    "__1. Найти производную выражения:__\n"
   ]
  },
  {
   "cell_type": "markdown",
   "metadata": {},
   "source": [
    "a).\n",
    "$(\\sin x * \\cos x)' =$\n",
    "\n",
    "=\n",
    "$(\\sin x)' * cos x + (\\cos x)' * \\sin x$\n",
    "=\n",
    "$\\cos^2 x - \\sin^2 x$\n",
    "\n",
    "__(cos(x))' = -sin(x)__\n",
    "\n",
    "__(sin(x))' = cos(x)__"
   ]
  },
  {
   "cell_type": "code",
   "execution_count": null,
   "metadata": {},
   "outputs": [],
   "source": []
  },
  {
   "cell_type": "markdown",
   "metadata": {},
   "source": [
    "b).\n",
    "$(\\ln(2x\\ +\\ 1)^3)' =$\n",
    "\n",
    "$= 3(ln(2x+1))^2*((ln(2x+1)))'=$\n",
    "\n",
    "$= 3(ln(2x+1))^2*(ln(2x+1))'(2x+1)'=$\n",
    "\n",
    "$= 3(ln(2x+1))^2*\\frac{1}{2x+1}*2=$\n",
    "\n",
    "$= \\frac{6ln(2x+1)^2}{2x+1}$"
   ]
  },
  {
   "cell_type": "code",
   "execution_count": null,
   "metadata": {},
   "outputs": [],
   "source": []
  },
  {
   "cell_type": "markdown",
   "metadata": {},
   "source": [
    "c).\n",
    "$(\\sqrt {\\sin^2(\\ln(x^3))} )' =$\n",
    "\n",
    "= $\\frac {1}{2\\sqrt {\\sin^2(\\ln(x^3))}} * (\\sin^2(\\ln(x^3)))'$"
   ]
  },
  {
   "cell_type": "code",
   "execution_count": null,
   "metadata": {},
   "outputs": [],
   "source": []
  },
  {
   "cell_type": "markdown",
   "metadata": {},
   "source": [
    "d).\n",
    "$(\\frac{x^4}{ln(x)})'$ = __(применим $(\\frac{u}{v})'=\\frac{u'v - uv'}{v^2}$)__\n",
    "\n",
    "= $\\frac{(x^4)'*ln(x) - x^4*(ln(x))'}{(ln(x))^2} =$\n",
    "\n",
    "= $\\frac{4*x^3*ln(x) - x^4* \\frac{1}{x}}{(ln(x))^2} =$\n",
    "\n",
    "= $4 * \\frac{x^3}{ln(x)} - \\frac{x^3}{ln(x)^2}$"
   ]
  },
  {
   "cell_type": "code",
   "execution_count": null,
   "metadata": {},
   "outputs": [],
   "source": []
  },
  {
   "cell_type": "markdown",
   "metadata": {},
   "source": [
    "__2. Найти выражение производной функции и ее значение в точке:__\n",
    "\n"
   ]
  },
  {
   "cell_type": "markdown",
   "metadata": {},
   "source": [
    "$f(x) = \\cos(x^2 + 3x), x_0 = \\sqrt \\pi$"
   ]
  },
  {
   "cell_type": "markdown",
   "metadata": {},
   "source": [
    "$(\\cos(x^2 + 3x))' = -\\sin(x^2 + 3x)*(x^2+3x)' = -\\sin(x^2 + 3x)*(2x+3)$\n",
    "\n",
    "$f(\\sqrt\\pi) = -\\sin(\\pi + 3 \\sqrt\\pi)*(2 \\sqrt \\pi + 3)$"
   ]
  },
  {
   "cell_type": "code",
   "execution_count": null,
   "metadata": {},
   "outputs": [],
   "source": []
  },
  {
   "cell_type": "markdown",
   "metadata": {},
   "source": [
    "__3.* Найти значение производной функции в точке:__\n",
    "\n"
   ]
  },
  {
   "cell_type": "markdown",
   "metadata": {},
   "source": [
    "$f(x) = \\frac{x^3-x^2-x-1}{1+2x+3x^2-4x^3},x_0 = 0$"
   ]
  },
  {
   "cell_type": "markdown",
   "metadata": {},
   "source": [
    "$$(x^3-x^2-x-1)' = (3x^2 - 2x - 1)$$\n",
    "\n",
    "$$(1+2x+3x^2-4x^3)' = (2 + 6x - 1)$$"
   ]
  },
  {
   "cell_type": "markdown",
   "metadata": {},
   "source": [
    "__(применим $(\\frac{u}{v})'=\\frac{u'v - uv'}{v^2}$)__"
   ]
  },
  {
   "cell_type": "code",
   "execution_count": 52,
   "metadata": {},
   "outputs": [],
   "source": [
    "x = 0"
   ]
  },
  {
   "cell_type": "code",
   "execution_count": 53,
   "metadata": {},
   "outputs": [
    {
     "data": {
      "text/plain": [
       "1"
      ]
     },
     "execution_count": 53,
     "metadata": {},
     "output_type": "execute_result"
    }
   ],
   "source": [
    "chislitel =  (3*x**2 - 2*x - 1) * (1+2*x+3*x**2-4*x**3)-(x**3-x**2-x-1) * (2 + 6*x - 12 * x**2)\n",
    "chislitel"
   ]
  },
  {
   "cell_type": "code",
   "execution_count": 54,
   "metadata": {},
   "outputs": [
    {
     "data": {
      "text/plain": [
       "1"
      ]
     },
     "execution_count": 54,
     "metadata": {},
     "output_type": "execute_result"
    }
   ],
   "source": [
    "znamenatel = (1+2*x+3*x**2-4*x**3)**2\n",
    "znamenatel"
   ]
  },
  {
   "cell_type": "code",
   "execution_count": 74,
   "metadata": {},
   "outputs": [
    {
     "name": "stdout",
     "output_type": "stream",
     "text": [
      "Ответ: при х = 0 значение функции = 1.0\n"
     ]
    }
   ],
   "source": [
    "print(f'Ответ: при х = 0 значение функции = {chislitel / znamenatel}')"
   ]
  },
  {
   "cell_type": "code",
   "execution_count": null,
   "metadata": {},
   "outputs": [],
   "source": []
  },
  {
   "cell_type": "markdown",
   "metadata": {},
   "source": [
    "__4. Найти угол наклона касательной к графику функции в точке:__"
   ]
  },
  {
   "cell_type": "markdown",
   "metadata": {},
   "source": [
    "$f(x) = \\sqrt {3x} * \\ln x, x_0 = 1$\n",
    "\n",
    "$(\\sqrt {3x} * \\ln x)' = (\\sqrt {3x})' * \\ln + \\sqrt {3x} * (\\ln(x))'= \\frac{3}{2\\sqrt{3x}}ln(x) + \\sqrt{3x} \\frac{1}{x}$\n"
   ]
  },
  {
   "cell_type": "code",
   "execution_count": 58,
   "metadata": {},
   "outputs": [],
   "source": [
    "import math"
   ]
  },
  {
   "cell_type": "code",
   "execution_count": 71,
   "metadata": {},
   "outputs": [],
   "source": [
    "\n",
    "x = 1\n",
    "a = 3/2*math.sqrt(3*x)*math.log(x) + math.sqrt(3*x) * 1/x\n"
   ]
  },
  {
   "cell_type": "code",
   "execution_count": 73,
   "metadata": {},
   "outputs": [
    {
     "name": "stdout",
     "output_type": "stream",
     "text": [
      "Ответ: угол наклона равен 59.99999999999999\n"
     ]
    }
   ],
   "source": [
    "print(f'Ответ: угол наклона равен {math.degrees(math.atan(a))}')"
   ]
  },
  {
   "cell_type": "code",
   "execution_count": null,
   "metadata": {},
   "outputs": [],
   "source": []
  }
 ],
 "metadata": {
  "kernelspec": {
   "display_name": "Python 3",
   "language": "python",
   "name": "python3"
  },
  "language_info": {
   "codemirror_mode": {
    "name": "ipython",
    "version": 3
   },
   "file_extension": ".py",
   "mimetype": "text/x-python",
   "name": "python",
   "nbconvert_exporter": "python",
   "pygments_lexer": "ipython3",
   "version": "3.7.3"
  }
 },
 "nbformat": 4,
 "nbformat_minor": 2
}
