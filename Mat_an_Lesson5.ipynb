{
 "cells": [
  {
   "cell_type": "code",
   "execution_count": 12,
   "metadata": {},
   "outputs": [],
   "source": [
    "import numpy as np"
   ]
  },
  {
   "cell_type": "markdown",
   "metadata": {},
   "source": [
    "### Найти предел функции:\n"
   ]
  },
  {
   "cell_type": "markdown",
   "metadata": {},
   "source": [
    "__Задача 1.__\n",
    "$$\\lim_{x \\to \\infty} \\frac{(23-2x^2)(3x^2 +17)^2}{4x^6+x-1}$$"
   ]
  },
  {
   "cell_type": "markdown",
   "metadata": {},
   "source": [
    "\n",
    "=\n",
    "$$\\lim_{x \\to \\infty} \\frac{-18x^6 + 3x^4 + 1768x^2 + 6647}{4x^6+x-1}$$\n",
    "=\n",
    "$$\\lim_{x \\to \\infty} \\frac{-18+\\frac{3}{x^2}+\\frac{1768x}{x^4} +\\frac{6647}{x^6}}{4x+\\frac{1}{x^5}-\\frac{1}{x^5}}$$\n",
    "=\n",
    "\n",
    "при $x \\to  \\infty$ все дроби стремятся к нулю\n",
    "\n",
    "Ответ: $$ = -\\frac{18}{4}$$"
   ]
  },
  {
   "cell_type": "code",
   "execution_count": null,
   "metadata": {},
   "outputs": [],
   "source": []
  },
  {
   "cell_type": "markdown",
   "metadata": {},
   "source": [
    "__Задача 2.__ \n",
    "$$\\lim_{x \\to \\infty} \\frac{(97-2x)^3}{2x(3x^2+15)+8x}$$"
   ]
  },
  {
   "cell_type": "markdown",
   "metadata": {},
   "source": [
    "\n",
    "=\n",
    "$$\\lim_{x \\to \\infty} \\frac{-8x^3+1164x^2-56454x+912673}{6x^3+38x}$$\n",
    "=\n",
    "$$\\lim_{x \\to \\infty} \\frac{x^3}{x^3}*\\frac{-8+\\frac{1164}{x}+\\frac{56454}{x^2} +\\frac{912673}{x^3}}{6+\\frac{38}{x^2}}$$\n",
    "=\n",
    "\n",
    "при $x \\to  \\infty$ все дроби стремятся к нулю\n",
    "\n",
    "Ответ: $$ = -\\frac{4}{3}$$"
   ]
  },
  {
   "cell_type": "code",
   "execution_count": null,
   "metadata": {},
   "outputs": [],
   "source": []
  },
  {
   "cell_type": "markdown",
   "metadata": {},
   "source": [
    "__Задача 3.__ \n",
    "$$\\lim_{x \\to \\infty} \\frac{2x^3+13x(x+18)}{(27-x)(2x+19)^2}$$"
   ]
  },
  {
   "cell_type": "markdown",
   "metadata": {},
   "source": [
    "\n",
    "=\n",
    "$$\\lim_{x \\to \\infty} \\frac{2 x^{3} + 13 x^{2} + 234 x}{- 4 x^{3} + 32 x^{2} + 1691 x + 9747}$$\n",
    "=\n",
    "$$\\lim_{x \\to \\infty} \\frac{x^3}{x^3}*\\frac{2+\\frac{13}{x}+\\frac{234}{x^2}}{-4+\\frac{32}{x}+\\frac{1691}{x^2}+\\frac{9747}{x^3}}$$\n",
    "=\n",
    "\n",
    "при $x \\to  \\infty$ все дроби стремятся к нулю\n",
    "\n",
    "Ответ: $$ = -\\frac{1}{2}$$"
   ]
  },
  {
   "cell_type": "code",
   "execution_count": null,
   "metadata": {},
   "outputs": [],
   "source": []
  },
  {
   "cell_type": "markdown",
   "metadata": {},
   "source": [
    "__Задача 4.__ \n",
    "$$\\lim_{x \\to 6}\\left(\\frac{x^{2} - 36}{\\left(x^{2} - x\\right) - 30}\\right)$$"
   ]
  },
  {
   "cell_type": "code",
   "execution_count": 17,
   "metadata": {},
   "outputs": [
    {
     "data": {
      "text/plain": [
       "(0, 0)"
      ]
     },
     "execution_count": 17,
     "metadata": {},
     "output_type": "execute_result"
    }
   ],
   "source": [
    "6**2-36, (6 ** 2 -6) -30"
   ]
  },
  {
   "cell_type": "markdown",
   "metadata": {},
   "source": [
    "__Неопределенность типа 0/0__"
   ]
  },
  {
   "cell_type": "markdown",
   "metadata": {},
   "source": [
    "\n",
    "=\n",
    "$$\\lim_{x \\to 6}\\left(\\frac{\\left(x - 6\\right) \\left(x + 6\\right)}{\\left(x - 6\\right) \\left(x + 5\\right)}\\right)$$\n",
    "=\n",
    "$$\\lim_{x \\to 6}\\left(\\frac{x + 6}{x + 5}\\right) = $$\n",
    "при x=6 \n",
    "$$\\frac{6 + 6}{5 + 6} = $$\n",
    "\n",
    "= $$\\frac{12}{11}$$\n",
    "\n",
    "\n",
    "Ответ:\n",
    "$$\\lim_{x \\to 6}\\left(\\frac{x^{2} - 36}{\\left(x^{2} - x\\right) - 30}\\right) = \\frac{12}{11}$$\n"
   ]
  },
  {
   "cell_type": "code",
   "execution_count": null,
   "metadata": {},
   "outputs": [],
   "source": []
  },
  {
   "cell_type": "markdown",
   "metadata": {},
   "source": [
    "__Задача 5.__\n",
    "$$\\lim_{x \\to 7}\\left(\\frac{x^{2} - 49}{\\left(x^{2} - 13 x\\right) + 42}\\right)$$"
   ]
  },
  {
   "cell_type": "code",
   "execution_count": 15,
   "metadata": {},
   "outputs": [
    {
     "data": {
      "text/plain": [
       "(0.0, 0.0)"
      ]
     },
     "execution_count": 15,
     "metadata": {},
     "output_type": "execute_result"
    }
   ],
   "source": [
    "np.sqrt(9)-27 ** (1./3), 16 ** (1./4)-2"
   ]
  },
  {
   "cell_type": "markdown",
   "metadata": {},
   "source": [
    "__Неопределенность типа 0/0__"
   ]
  },
  {
   "cell_type": "markdown",
   "metadata": {},
   "source": [
    "\n",
    "=\n",
    "$$\\lim_{x \\to 7}\\left(\\frac{\\left(x - 7\\right) \\left(x + 7\\right)}{\\left(x - 7\\right) \\left(x - 6\\right)}\\right)$$\n",
    "=\n",
    "$$\\lim_{x \\to 7}\\left(\\frac{x + 7}{x - 6}\\right) = $$\n",
    "при x=7 \n",
    "$$\\frac{7 + 7}{-6 + 7} = $$\n",
    "\n",
    "= $$14$$\n",
    "\n",
    "\n",
    "Ответ:\n",
    "$$\\lim_{x \\to 7}\\left(\\frac{x^{2} - 49}{\\left(x^{2} - 13 x\\right) + 42}\\right) = 14$$"
   ]
  },
  {
   "cell_type": "code",
   "execution_count": 5,
   "metadata": {},
   "outputs": [],
   "source": []
  },
  {
   "cell_type": "markdown",
   "metadata": {},
   "source": [
    "__Задача 6*.__ \n",
    "$$\\lim_{x \\to 7} \\frac{\\sqrt{x+2}- {^3\\sqrt{x+20}}}{^4\\sqrt{x+9}-2}$$"
   ]
  },
  {
   "cell_type": "code",
   "execution_count": 26,
   "metadata": {},
   "outputs": [
    {
     "data": {
      "text/plain": [
       "(2.0, 32.0)"
      ]
     },
     "execution_count": 26,
     "metadata": {},
     "output_type": "execute_result"
    }
   ],
   "source": [
    "(16**(1/4)),(16**(1/4))**5\n"
   ]
  },
  {
   "cell_type": "code",
   "execution_count": null,
   "metadata": {},
   "outputs": [],
   "source": []
  },
  {
   "cell_type": "markdown",
   "metadata": {},
   "source": [
    "__Задача 7.__\n",
    "$$\\lim_{x \\to 0} \\frac{3x *tg 4x}{1-\\cos4x}$$"
   ]
  },
  {
   "cell_type": "markdown",
   "metadata": {},
   "source": [
    "\n",
    "\n"
   ]
  },
  {
   "cell_type": "code",
   "execution_count": null,
   "metadata": {},
   "outputs": [],
   "source": []
  },
  {
   "cell_type": "markdown",
   "metadata": {},
   "source": [
    "__Задача 8**.__\n",
    "$$\\lim_{x \\to 0} \\frac{\\sqrt2 x^2\\sin4x}{(1-\\cos2x)^{\\frac{3}{2}}}$$"
   ]
  },
  {
   "cell_type": "code",
   "execution_count": null,
   "metadata": {},
   "outputs": [],
   "source": []
  },
  {
   "cell_type": "code",
   "execution_count": null,
   "metadata": {},
   "outputs": [],
   "source": []
  },
  {
   "cell_type": "markdown",
   "metadata": {},
   "source": [
    "__Задача 9.__\n",
    "$$\\lim_{x \\to \\infty} (\\frac{4x}{4x+3})^{\\frac{5x^2}{7x-1}}$$"
   ]
  },
  {
   "cell_type": "code",
   "execution_count": null,
   "metadata": {},
   "outputs": [],
   "source": []
  },
  {
   "cell_type": "code",
   "execution_count": null,
   "metadata": {},
   "outputs": [],
   "source": []
  },
  {
   "cell_type": "markdown",
   "metadata": {},
   "source": [
    "__Задача 10*.__\n",
    "$$\\lim_{x \\to \\infty} \\frac{\\ln(x^2 - x +1)}{\\ln(x^{10} +x+1)}$$"
   ]
  },
  {
   "cell_type": "code",
   "execution_count": null,
   "metadata": {},
   "outputs": [],
   "source": []
  },
  {
   "cell_type": "code",
   "execution_count": null,
   "metadata": {},
   "outputs": [],
   "source": []
  },
  {
   "cell_type": "markdown",
   "metadata": {},
   "source": [
    "__Задача 11.__\n",
    "$$\\lim_{x \\to 0} \\frac{5^x - 1}{x}$$"
   ]
  },
  {
   "cell_type": "markdown",
   "metadata": {},
   "source": [
    "=\n",
    "$$\\lim_{x \\to 0} \\frac{x(\\frac {5^x}{x}-\\frac {1}{x})} {x(1)}$$\n",
    "=\n",
    "$$\\lim_{x \\to 0} \\frac{\\frac{5^x}{x}-\\frac {1}{x}} {1}$$\n",
    "=\n",
    "$$\\lim_{x \\to 0} \\frac{\\ln(5)}{1} = $$\n",
    "\n",
    "= $$\\ln(5)$$"
   ]
  },
  {
   "cell_type": "code",
   "execution_count": null,
   "metadata": {},
   "outputs": [],
   "source": []
  },
  {
   "cell_type": "code",
   "execution_count": null,
   "metadata": {},
   "outputs": [],
   "source": []
  },
  {
   "cell_type": "code",
   "execution_count": null,
   "metadata": {},
   "outputs": [],
   "source": []
  }
 ],
 "metadata": {
  "kernelspec": {
   "display_name": "Python 3",
   "language": "python",
   "name": "python3"
  },
  "language_info": {
   "codemirror_mode": {
    "name": "ipython",
    "version": 3
   },
   "file_extension": ".py",
   "mimetype": "text/x-python",
   "name": "python",
   "nbconvert_exporter": "python",
   "pygments_lexer": "ipython3",
   "version": "3.7.3"
  }
 },
 "nbformat": 4,
 "nbformat_minor": 2
}
